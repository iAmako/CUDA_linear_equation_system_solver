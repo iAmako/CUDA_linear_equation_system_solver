{
 "cells": [
  {
   "cell_type": "markdown",
   "metadata": {},
   "source": [
    "# Résolution de système d'équations linéaires\n",
    "### Auteurs : Alexis LABILLE & Kilyan SLOWINSKI\n",
    "\n",
    "Ce notebook sert de démonstration à la bibliothèque de résolution de système d'équations linéaires.\n",
    "## Sommaire\n",
    "- [Fichiers](#id-fichiers)\n",
    "- [Améliorations](#id-amelio)\n",
    "- [Utilisation](#-id-use)\n",
    "- [Démonstration](#id-demo)\n",
    "- [Résultats](#id-res)\n",
    "\n",
    "<a id=\"id-fichiers\"></a>\n",
    "## Fichiers\n",
    "Les différents dossier à la racine de l'archive permettent de séparer les différentes versions du solveur : itérative, OpenMP & CUDA\n",
    "### Bibliothèque \n",
    "La bibliothèque \"linear_system\" permet de créer, lire et manipuler des systèmes d'équations linéaires, celle-ci est commentée pour être compréhensible et réutilisable. Une deuxième partie \"solver\" contient toutes les fonctions nécessaire à la résolution d'un système.\n",
    "### Exécutables \n",
    "Une fois les fichiers compilés, les exécutables \"generator\" et les différents \"solver\" sont disponibles, leur fonctionnement est décrit plus bas.\n",
    "### Systèmes\n",
    "Quelques fichiers décrivant des systèmes d'équations linéaires sont disponible pour pouvoir tester le programme.\n",
    "Un makefile est aussi mis à disposition.\n",
    "\n",
    "<a id=\"id-amelio\"></a>\n",
    "## Amélioration des performances\n",
    "### OpenMP\n",
    "Au vue de la structure du programme et du déroulement de l'algorithme du parallélisme s'est vite dégagé.\n",
    "On peut alors: \n",
    "- Calculer les pivots en parallèle où chaque thread va calcul le pivot de sa colonne attitrée\n",
    "- Propager le pivot sur les autres équations où chaque thread s'occupe d'un bloc d'équation chacun\n",
    "### CUDA\n",
    "- Parallélisation de la propagation du pivot\n",
    "<a id=\"id-use\"></a>\n",
    "## Utilisation \n",
    "Quatres exécutables sont disponibles :\n",
    "### generator.exe\n",
    "- Permet de générer des fichiers '.txt' décrivant des systèmes d'équations linéaires aléatoires.\n",
    "- Format d'utilisation : \n",
    "  - ./generator.exe LEN NB\n",
    "  - Paramètres :\n",
    "    - LEN : La taille des systèmes (Défaut = 30)\n",
    "    - NB : Le nombre de systèmes à générer (Optionnel | Défaut = 1)\n",
    "### solver.exe\n",
    "- Permet de résoudre des fichiers de système d'équations linéaires '.txt'\n",
    "- Format d'utilisation :\n",
    "    - ./solver.exe PATH VERBOSE\n",
    "    - Paramètres :\n",
    "      - PATH : Chemin vers le fichier\n",
    "      - VERBOSE : Le niveau d'affichage du programme (Optionnel | Défaut = 1)\n",
    "### solver_omp.exe\n",
    "- Permet de résoudre des fichiers de système d'équations linéaires '.txt'\n",
    "- Format d'utilisation :\n",
    "    - ./solver_omp.exe PATH VERBOSE\n",
    "    - Paramètres :\n",
    "      - PATH : Chemin vers le fichier\n",
    "      - VERBOSE : Le niveau d'affichage du programme (Optionnel | Défaut = 1)\n",
    "### solver_cuda.exe\n",
    "- Permet de résoudre des fichiers de système d'équations linéaires '.txt'\n",
    "- Format d'utilisation :\n",
    "    - ./solver_cuda.exe PATH\n",
    "    - Paramètres :\n",
    "      - PATH : Chemin vers le fichier\n",
    "<a id=\"id-demo\"></a>\n",
    "## Démonstration\n",
    "Dans cette partie nous allons voir comment utiliser les programmes.\n",
    "### Compilation\n",
    "Commençons par compiler les fichiers pour la machine qu'on utilise à l'aide des différents makefiles disponibles : \n"
   ]
  },
  {
   "cell_type": "code",
   "execution_count": null,
   "metadata": {},
   "outputs": [],
   "source": [
    "%%bash\n",
    "module load gcc\n",
    "module load cuda\n",
    "cd iteratif\n",
    "make\n",
    "cd ..\n",
    "cd omp\n",
    "make\n",
    "cd ..\n",
    "cd cuda\n",
    "make\n",
    "cd .."
   ]
  },
  {
   "cell_type": "markdown",
   "metadata": {},
   "source": [
    "Nous disposons maintenant des fichiers exécutables generator et solver.\n",
    "### Génération de systèmes\n",
    "Avant de résoudre des systèmes d'équations linéaires, nous allons avoir besoin d'en produire à l'aide de l'exécutable generator\n",
    "Il est possible de produire un fichier de système par défaut de taille 30 avec la commande suivante : "
   ]
  },
  {
   "cell_type": "code",
   "execution_count": null,
   "metadata": {},
   "outputs": [],
   "source": [
    "%%bash\n",
    "cd iteratif\n",
    "./generator.exe\n",
    "cd .."
   ]
  },
  {
   "cell_type": "markdown",
   "metadata": {},
   "source": [
    "On peut aussi choisir la taille du système qu'on ressort, produisons par exemple un système de grande taille 1000 :"
   ]
  },
  {
   "cell_type": "code",
   "execution_count": null,
   "metadata": {},
   "outputs": [],
   "source": [
    "%%bash\n",
    "cd iteratif\n",
    "./generator.exe 1000 1\n",
    "cd .."
   ]
  },
  {
   "cell_type": "markdown",
   "metadata": {},
   "source": [
    "Et on peut aussi décider de produire plusieurs fichiers, de même taille, créons ici 5 fichiers de taille 300 :"
   ]
  },
  {
   "cell_type": "code",
   "execution_count": null,
   "metadata": {},
   "outputs": [],
   "source": [
    "%%bash\n",
    "cd iteratif\n",
    "./generator.exe 300 5\n",
    "cd .."
   ]
  },
  {
   "cell_type": "markdown",
   "metadata": {},
   "source": [
    "Nous disposons maintenant de plusieurs systèmes de taille variable à résoudre avec notre solveur.\n",
    "### Résolution d'un système \n",
    "Pour résoudre les systèmes que nous avons produit, nous pouvons maintenant utiliser le fichier solver.\n",
    "Pour résoudre un système on entre la commande solver suivi du chemin vers le fichier décrivant le système à résoudre :"
   ]
  },
  {
   "cell_type": "code",
   "execution_count": null,
   "metadata": {},
   "outputs": [],
   "source": [
    "%%bash\n",
    "cd iteratif\n",
    "./solver.exe \"systems/sys_100_124-4-27_7-33-0.txt\"\n",
    "cd ..\n",
    "cd omp\n",
    "./solver_omp.exe \"systems/sys_100_124-4-27_7-33-0.txt\"\n",
    "cd ..\n",
    "cd cuda\n",
    "./solver_cuda.exe \"systems/sys_100_124-4-27_7-33-0.txt\"\n",
    "cd ..\n"
   ]
  },
  {
   "cell_type": "markdown",
   "metadata": {},
   "source": [
    "La sortie standard indique l'emplacement de sauvegarde du fichier produit. Le fichier de sortie porte le même nom que le fichier d'entrée suivi de \"_solved.txt\"\n",
    "\n",
    "<a id=\"id-res\"></a>\n",
    "## Résultats\n",
    "Ci-dessous une courbe des temps obtenus avec différentes tailles de systèmes\n",
    "![alt text](image.png)"
   ]
  },
  {
   "cell_type": "markdown",
   "metadata": {},
   "source": [
    "On remarque que le temps d'exécution baisse significativement sur les plus grands systèmes. Il est probablement possible d'encore améliorer les performances sur la version CUDA."
   ]
  }
 ],
 "metadata": {
  "kernelspec": {
   "display_name": "Python 3 (ipykernel)",
   "language": "python",
   "name": "python3"
  },
  "language_info": {
   "codemirror_mode": {
    "name": "ipython",
    "version": 3
   },
   "file_extension": ".py",
   "mimetype": "text/x-python",
   "name": "python",
   "nbconvert_exporter": "python",
   "pygments_lexer": "ipython3",
   "version": "3.10.12"
  }
 },
 "nbformat": 4,
 "nbformat_minor": 2
}
