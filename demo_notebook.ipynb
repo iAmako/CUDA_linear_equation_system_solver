{
 "cells": [
  {
   "cell_type": "markdown",
   "metadata": {},
   "source": [
    "# Résolution de système d'équations linéaires\n",
    "Ce notebook sert de démonstration à la bibliothèque de résolution de système d'équations linéaires \n",
    "## Sommaire\n",
    "- [Fichiers](#id-fichiers)\n",
    "- [Utilisation](#-id-use)\n",
    "- [Démonstration](#id-demo)\n",
    "\n",
    "<a id=\"id-fichiers\"></a>\n",
    "## Fichiers\n",
    "### linear_system.h\n",
    ".\n",
    ".\n",
    ".\n",
    "Un makefile est également disponible \n",
    "<a id=\"id-use\"></a>\n",
    "## Utilisation \n",
    "Deux exécutables sont disponibles \n",
    "### generator\n",
    "- Permet de générer des fichiers sur lesquels travailler\n",
    "- Format d'utilisation : \n",
    "  - system_generator LEN NB\n",
    "  - Paramètres :\n",
    "    - LEN : La taille des systèmes (Défaut = 30)\n",
    "    - NB : Le nombre de systèmes à générer (Optionnel | Défaut = 1)\n",
    "### solver\n",
    "- Permet de résoudre des fichiers de système d'équations linéaires .txt\n",
    "- Format d'utilisation :\n",
    "    - system_solver PATH VERBOSE\n",
    "    - Paramètres :\n",
    "      - PATH : Chemin vers le fichier\n",
    "      - VERBOSE : Le niveau d'affichage du programme (Optionnel | Défaut = 1)\n",
    "<a id=\"id-demo\"></a>\n",
    "## Démonstration\n",
    "Dans cette partie nous allons voir comment utiliser les programmes \n",
    "### Compilation\n",
    "Commençons par compiler les fichiers pour la machine qu'on utilise \n"
   ]
  },
  {
   "cell_type": "code",
   "execution_count": null,
   "metadata": {},
   "outputs": [
    {
     "ename": "",
     "evalue": "",
     "output_type": "error",
     "traceback": [
      "\u001b[1;31mFailed to start the Kernel. \n",
      "\u001b[1;31mView Jupyter <a href='command:jupyter.viewOutput'>log</a> for further details."
     ]
    }
   ],
   "source": [
    "%%bash\n",
    "make"
   ]
  },
  {
   "cell_type": "markdown",
   "metadata": {},
   "source": [
    "Nous disposons maintenant des deux fichiers exécutables generator et solver \n",
    "### Génération de systèmes\n",
    "Avant de résoudre des systèmes d'équations linéaires, nous allons avoir besoin d'en produire à l'aide de l'exécutable generator\n",
    "Il est possible de produire un fichier de système par défaut de taille 30 avec la commande suivante : "
   ]
  },
  {
   "cell_type": "code",
   "execution_count": null,
   "metadata": {},
   "outputs": [],
   "source": [
    "%%bash\n",
    "./generator"
   ]
  },
  {
   "cell_type": "markdown",
   "metadata": {},
   "source": [
    "On peut aussi choisir la taille du système qu'on ressort, produisons par exemple un système très grand de taille 10000 (attention fichier de 1GB !)"
   ]
  },
  {
   "cell_type": "code",
   "execution_count": null,
   "metadata": {},
   "outputs": [
    {
     "ename": "",
     "evalue": "",
     "output_type": "error",
     "traceback": [
      "\u001b[1;31mFailed to start the Kernel. \n",
      "\u001b[1;31mView Jupyter <a href='command:jupyter.viewOutput'>log</a> for further details."
     ]
    }
   ],
   "source": [
    "%%bash\n",
    "./generator 10000"
   ]
  },
  {
   "cell_type": "markdown",
   "metadata": {},
   "source": [
    "Et on peut aussi décider de produire plusieurs fichiers, de même taille, créons ici 5 fichiers de taille 300"
   ]
  },
  {
   "cell_type": "code",
   "execution_count": null,
   "metadata": {},
   "outputs": [],
   "source": [
    "%%bash\n",
    "./generator 300 5"
   ]
  },
  {
   "cell_type": "code",
   "execution_count": null,
   "metadata": {},
   "outputs": [],
   "source": [
    "Nous disposons maintenant de plusieurs systèmes de taille variable à résoudre avec notre solveur"
   ]
  },
  {
   "cell_type": "markdown",
   "metadata": {},
   "source": [
    "### Résolution d'un système \n",
    "Pour résoudre les systèmes que nous avons produit, nous pouvons maintenant utiliser le fichier solver "
   ]
  }
 ],
 "metadata": {
  "kernelspec": {
   "display_name": "Python 3 (ipykernel)",
   "language": "python",
   "name": "python3"
  }
 },
 "nbformat": 4,
 "nbformat_minor": 2
}
