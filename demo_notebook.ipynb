{
 "cells": [
  {
   "cell_type": "markdown",
   "metadata": {},
   "source": [
    "# Résolution de système d'équations linéaires\n",
    "Ce notebook sert de démonstration à la bibliothèque de résolution de système d'équations linéaires.\n",
    "## Sommaire\n",
    "- [Fichiers](#id-fichiers)\n",
    "- [Améliorations](#id-amelio)\n",
    "- [Utilisation](#-id-use)\n",
    "- [Démonstration](#id-demo)\n",
    "\n",
    "<a id=\"id-fichiers\"></a>\n",
    "## Fichiers\n",
    "### Bibliothèque \n",
    "La bibliothèque \"linear_system\" permet de créer, lire et manipuler des systèmes d'équations linéaires, celle-ci est commentée pour être compréhensible et réutilisable. Une deuxième partie \"solver\" contient toutes les fonctions nécessaire à la résolution d'un système.\n",
    "### Exécutables \n",
    "Une fois les fichiers compilés, deux exécutables \"generator\" et \"solver\" sont disponibles, leur fonctionnement est décrit plus bas.\n",
    "### Systèmes\n",
    "Quelques fichiers décrivant des systèmes d'équations linéaires sont disponible pour pouvoir tester le programme.\n",
    "Un makefile est aussi mis à disposition.\n",
    "<a id=\"id-amelio\"></a>\n",
    "## Améliorations des performances \n",
    "### OpenMP\n",
    "### Mémoire partagée \n",
    "### CUDA\n",
    "<a id=\"id-use\"></a>\n",
    "## Utilisation \n",
    "Deux exécutables sont disponibles :\n",
    "### generator\n",
    "- Permet de générer des fichiers '.txt' décrivant des systèmes d'équations linéaires aléatoires.\n",
    "- Format d'utilisation : \n",
    "  - ./generator LEN NB\n",
    "  - Paramètres :\n",
    "    - LEN : La taille des systèmes (Défaut = 30)\n",
    "    - NB : Le nombre de systèmes à générer (Optionnel | Défaut = 1)\n",
    "### solver\n",
    "- Permet de résoudre des fichiers de système d'équations linéaires '.txt'\n",
    "- Format d'utilisation :\n",
    "    - ./solver.exe PATH VERBOSE\n",
    "    - Paramètres :\n",
    "      - PATH : Chemin vers le fichier\n",
    "      - VERBOSE : Le niveau d'affichage du programme (Optionnel | Défaut = 1)\n",
    "<a id=\"id-demo\"></a>\n",
    "## Démonstration\n",
    "Dans cette partie nous allons voir comment utiliser les programmes.\n",
    "### Compilation\n",
    "Commençons par compiler les fichiers pour la machine qu'on utilise à l'aide du makefile disponible : \n"
   ]
  },
  {
   "cell_type": "code",
   "execution_count": 7,
   "metadata": {},
   "outputs": [
    {
     "name": "stdout",
     "output_type": "stream",
     "text": [
      "Generation en mode debug\n"
     ]
    }
   ],
   "source": [
    "%%bash\n",
    "make"
   ]
  },
  {
   "cell_type": "markdown",
   "metadata": {},
   "source": [
    "Nous disposons maintenant des deux fichiers exécutables generator et solver.\n",
    "### Génération de systèmes\n",
    "Avant de résoudre des systèmes d'équations linéaires, nous allons avoir besoin d'en produire à l'aide de l'exécutable generator\n",
    "Il est possible de produire un fichier de système par défaut de taille 30 avec la commande suivante : "
   ]
  },
  {
   "cell_type": "code",
   "execution_count": 12,
   "metadata": {},
   "outputs": [],
   "source": [
    "%%bash\n",
    "./generator.exe"
   ]
  },
  {
   "cell_type": "markdown",
   "metadata": {},
   "source": [
    "On peut aussi choisir la taille du système qu'on ressort, produisons par exemple un système très grand de taille 10000 (attention fichier de 1GB !) :"
   ]
  },
  {
   "cell_type": "code",
   "execution_count": 2,
   "metadata": {},
   "outputs": [],
   "source": [
    "%%bash\n",
    "./generator.exe 10000"
   ]
  },
  {
   "cell_type": "markdown",
   "metadata": {},
   "source": [
    "Et on peut aussi décider de produire plusieurs fichiers, de même taille, créons ici 5 fichiers de taille 300 :"
   ]
  },
  {
   "cell_type": "code",
   "execution_count": 11,
   "metadata": {},
   "outputs": [
    {
     "name": "stdout",
     "output_type": "stream",
     "text": [
      "Utilisation : ./generator.exe LEN NB\n",
      "Avec :\n",
      "\tLEN : La taille des systèmes (Défaut : 30) \n",
      "\tNB : Le nombre de systèmes à générer (Défaut : 1)\n"
     ]
    }
   ],
   "source": [
    "%%bash\n",
    "./generator.exe 300 5"
   ]
  },
  {
   "cell_type": "markdown",
   "metadata": {},
   "source": [
    "Nous disposons maintenant de plusieurs systèmes de taille variable à résoudre avec notre solveur.\n",
    "### Résolution d'un système \n",
    "Pour résoudre les systèmes que nous avons produit, nous pouvons maintenant utiliser le fichier solver.\n",
    "Pour résoudre un système on entre la commande solver suivi du chemin vers le fichier décrivant le système à résoudre :"
   ]
  },
  {
   "cell_type": "code",
   "execution_count": 9,
   "metadata": {},
   "outputs": [
    {
     "name": "stderr",
     "output_type": "stream",
     "text": [
      "bash: line 1:  7097 Segmentation fault      (core dumped) ./solver.exe \"systems/sys_30_124-3-8_7-9-13\"\n"
     ]
    },
    {
     "ename": "CalledProcessError",
     "evalue": "Command 'b'./solver.exe \"systems/sys_30_124-3-8_7-9-13\"\\n'' returned non-zero exit status 139.",
     "output_type": "error",
     "traceback": [
      "\u001b[0;31m---------------------------------------------------------------------------\u001b[0m",
      "\u001b[0;31mCalledProcessError\u001b[0m                        Traceback (most recent call last)",
      "Cell \u001b[0;32mIn[9], line 1\u001b[0m\n\u001b[0;32m----> 1\u001b[0m \u001b[43mget_ipython\u001b[49m\u001b[43m(\u001b[49m\u001b[43m)\u001b[49m\u001b[38;5;241;43m.\u001b[39;49m\u001b[43mrun_cell_magic\u001b[49m\u001b[43m(\u001b[49m\u001b[38;5;124;43m'\u001b[39;49m\u001b[38;5;124;43mbash\u001b[39;49m\u001b[38;5;124;43m'\u001b[39;49m\u001b[43m,\u001b[49m\u001b[43m \u001b[49m\u001b[38;5;124;43m'\u001b[39;49m\u001b[38;5;124;43m'\u001b[39;49m\u001b[43m,\u001b[49m\u001b[43m \u001b[49m\u001b[38;5;124;43m'\u001b[39;49m\u001b[38;5;124;43m./solver.exe \u001b[39;49m\u001b[38;5;124;43m\"\u001b[39;49m\u001b[38;5;124;43msystems/sys_30_124-3-8_7-9-13\u001b[39;49m\u001b[38;5;124;43m\"\u001b[39;49m\u001b[38;5;130;43;01m\\n\u001b[39;49;00m\u001b[38;5;124;43m'\u001b[39;49m\u001b[43m)\u001b[49m\n",
      "File \u001b[0;32m~/.local/lib/python3.10/site-packages/IPython/core/interactiveshell.py:2475\u001b[0m, in \u001b[0;36mInteractiveShell.run_cell_magic\u001b[0;34m(self, magic_name, line, cell)\u001b[0m\n\u001b[1;32m   2473\u001b[0m \u001b[38;5;28;01mwith\u001b[39;00m \u001b[38;5;28mself\u001b[39m\u001b[38;5;241m.\u001b[39mbuiltin_trap:\n\u001b[1;32m   2474\u001b[0m     args \u001b[38;5;241m=\u001b[39m (magic_arg_s, cell)\n\u001b[0;32m-> 2475\u001b[0m     result \u001b[38;5;241m=\u001b[39m \u001b[43mfn\u001b[49m\u001b[43m(\u001b[49m\u001b[38;5;241;43m*\u001b[39;49m\u001b[43margs\u001b[49m\u001b[43m,\u001b[49m\u001b[43m \u001b[49m\u001b[38;5;241;43m*\u001b[39;49m\u001b[38;5;241;43m*\u001b[39;49m\u001b[43mkwargs\u001b[49m\u001b[43m)\u001b[49m\n\u001b[1;32m   2477\u001b[0m \u001b[38;5;66;03m# The code below prevents the output from being displayed\u001b[39;00m\n\u001b[1;32m   2478\u001b[0m \u001b[38;5;66;03m# when using magics with decodator @output_can_be_silenced\u001b[39;00m\n\u001b[1;32m   2479\u001b[0m \u001b[38;5;66;03m# when the last Python token in the expression is a ';'.\u001b[39;00m\n\u001b[1;32m   2480\u001b[0m \u001b[38;5;28;01mif\u001b[39;00m \u001b[38;5;28mgetattr\u001b[39m(fn, magic\u001b[38;5;241m.\u001b[39mMAGIC_OUTPUT_CAN_BE_SILENCED, \u001b[38;5;28;01mFalse\u001b[39;00m):\n",
      "File \u001b[0;32m~/.local/lib/python3.10/site-packages/IPython/core/magics/script.py:153\u001b[0m, in \u001b[0;36mScriptMagics._make_script_magic.<locals>.named_script_magic\u001b[0;34m(line, cell)\u001b[0m\n\u001b[1;32m    151\u001b[0m \u001b[38;5;28;01melse\u001b[39;00m:\n\u001b[1;32m    152\u001b[0m     line \u001b[38;5;241m=\u001b[39m script\n\u001b[0;32m--> 153\u001b[0m \u001b[38;5;28;01mreturn\u001b[39;00m \u001b[38;5;28;43mself\u001b[39;49m\u001b[38;5;241;43m.\u001b[39;49m\u001b[43mshebang\u001b[49m\u001b[43m(\u001b[49m\u001b[43mline\u001b[49m\u001b[43m,\u001b[49m\u001b[43m \u001b[49m\u001b[43mcell\u001b[49m\u001b[43m)\u001b[49m\n",
      "File \u001b[0;32m~/.local/lib/python3.10/site-packages/IPython/core/magics/script.py:305\u001b[0m, in \u001b[0;36mScriptMagics.shebang\u001b[0;34m(self, line, cell)\u001b[0m\n\u001b[1;32m    300\u001b[0m \u001b[38;5;28;01mif\u001b[39;00m args\u001b[38;5;241m.\u001b[39mraise_error \u001b[38;5;129;01mand\u001b[39;00m p\u001b[38;5;241m.\u001b[39mreturncode \u001b[38;5;241m!=\u001b[39m \u001b[38;5;241m0\u001b[39m:\n\u001b[1;32m    301\u001b[0m     \u001b[38;5;66;03m# If we get here and p.returncode is still None, we must have\u001b[39;00m\n\u001b[1;32m    302\u001b[0m     \u001b[38;5;66;03m# killed it but not yet seen its return code. We don't wait for it,\u001b[39;00m\n\u001b[1;32m    303\u001b[0m     \u001b[38;5;66;03m# in case it's stuck in uninterruptible sleep. -9 = SIGKILL\u001b[39;00m\n\u001b[1;32m    304\u001b[0m     rc \u001b[38;5;241m=\u001b[39m p\u001b[38;5;241m.\u001b[39mreturncode \u001b[38;5;129;01mor\u001b[39;00m \u001b[38;5;241m-\u001b[39m\u001b[38;5;241m9\u001b[39m\n\u001b[0;32m--> 305\u001b[0m     \u001b[38;5;28;01mraise\u001b[39;00m CalledProcessError(rc, cell)\n",
      "\u001b[0;31mCalledProcessError\u001b[0m: Command 'b'./solver.exe \"systems/sys_30_124-3-8_7-9-13\"\\n'' returned non-zero exit status 139."
     ]
    }
   ],
   "source": [
    "%%bash\n",
    "./solver.exe \"systems/sys_30_124-3-8_7-9-13\""
   ]
  },
  {
   "cell_type": "markdown",
   "metadata": {},
   "source": [
    "La sortie standart indique l'emplacement de sauvegarde du fichier produit. En temps normalement le fichier de sortie porte le même nom que le fichier d'entrée suivi de \"_solver.txt\""
   ]
  }
 ],
 "metadata": {
  "kernelspec": {
   "display_name": "Python 3 (ipykernel)",
   "language": "python",
   "name": "python3"
  },
  "language_info": {
   "codemirror_mode": {
    "name": "ipython",
    "version": 3
   },
   "file_extension": ".py",
   "mimetype": "text/x-python",
   "name": "python",
   "nbconvert_exporter": "python",
   "pygments_lexer": "ipython3",
   "version": "3.10.12"
  }
 },
 "nbformat": 4,
 "nbformat_minor": 2
}
